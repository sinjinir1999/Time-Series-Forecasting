{
  "nbformat": 4,
  "nbformat_minor": 0,
  "metadata": {
    "colab": {
      "name": "Prophet_Jan_Apr.ipynb",
      "provenance": []
    },
    "kernelspec": {
      "name": "python3",
      "display_name": "Python 3"
    },
    "language_info": {
      "name": "python"
    }
  },
  "cells": [
    {
      "cell_type": "code",
      "metadata": {
        "id": "kQnKKyG_kGn0"
      },
      "source": [
        "import pandas as pd\n",
        "import datetime as dt\n",
        "import matplotlib.pyplot as plt\n",
        "import seaborn as sns"
      ],
      "execution_count": 66,
      "outputs": []
    },
    {
      "cell_type": "code",
      "metadata": {
        "id": "qsDtuq9BkTnU"
      },
      "source": [
        "dateparse = lambda x: datetime.strptime(x, '%Y-%m-%d %H:%M:%S')"
      ],
      "execution_count": 67,
      "outputs": []
    },
    {
      "cell_type": "code",
      "metadata": {
        "id": "-xnzKQJdkW3c"
      },
      "source": [
        "lead=pd.read_csv('/content/Leads_TimeSeries_Oye!.csv',date_parser=dateparse)"
      ],
      "execution_count": 68,
      "outputs": []
    },
    {
      "cell_type": "code",
      "metadata": {
        "id": "9WE5KZsEg4kH"
      },
      "source": [
        "lead.drop('lead_source',axis=1,inplace=True)"
      ],
      "execution_count": 69,
      "outputs": []
    },
    {
      "cell_type": "markdown",
      "metadata": {
        "id": "L6Jr4AXB69Ku"
      },
      "source": [
        "**PROPHET MODEL**"
      ]
    },
    {
      "cell_type": "code",
      "metadata": {
        "id": "b4tSzu-W37ay"
      },
      "source": [
        "import fbprophet"
      ],
      "execution_count": 70,
      "outputs": []
    },
    {
      "cell_type": "code",
      "metadata": {
        "id": "0bO3gf7o39Lo"
      },
      "source": [
        "from fbprophet import Prophet\n"
      ],
      "execution_count": 71,
      "outputs": []
    },
    {
      "cell_type": "code",
      "metadata": {
        "id": "wBzWB91y4IuY",
        "colab": {
          "base_uri": "https://localhost:8080/",
          "height": 676
        },
        "outputId": "d8b48008-3e82-4725-98cc-e277610ea1cf"
      },
      "source": [
        "lead.head(20)"
      ],
      "execution_count": 72,
      "outputs": [
        {
          "output_type": "execute_result",
          "data": {
            "text/html": [
              "<div>\n",
              "<style scoped>\n",
              "    .dataframe tbody tr th:only-of-type {\n",
              "        vertical-align: middle;\n",
              "    }\n",
              "\n",
              "    .dataframe tbody tr th {\n",
              "        vertical-align: top;\n",
              "    }\n",
              "\n",
              "    .dataframe thead th {\n",
              "        text-align: right;\n",
              "    }\n",
              "</style>\n",
              "<table border=\"1\" class=\"dataframe\">\n",
              "  <thead>\n",
              "    <tr style=\"text-align: right;\">\n",
              "      <th></th>\n",
              "      <th>date</th>\n",
              "      <th>count</th>\n",
              "    </tr>\n",
              "  </thead>\n",
              "  <tbody>\n",
              "    <tr>\n",
              "      <th>0</th>\n",
              "      <td>2020-06-01</td>\n",
              "      <td>1</td>\n",
              "    </tr>\n",
              "    <tr>\n",
              "      <th>1</th>\n",
              "      <td>2020-06-01</td>\n",
              "      <td>16</td>\n",
              "    </tr>\n",
              "    <tr>\n",
              "      <th>2</th>\n",
              "      <td>2020-06-01</td>\n",
              "      <td>29</td>\n",
              "    </tr>\n",
              "    <tr>\n",
              "      <th>3</th>\n",
              "      <td>2020-06-01</td>\n",
              "      <td>12</td>\n",
              "    </tr>\n",
              "    <tr>\n",
              "      <th>4</th>\n",
              "      <td>2020-06-02</td>\n",
              "      <td>26</td>\n",
              "    </tr>\n",
              "    <tr>\n",
              "      <th>5</th>\n",
              "      <td>2020-06-02</td>\n",
              "      <td>3</td>\n",
              "    </tr>\n",
              "    <tr>\n",
              "      <th>6</th>\n",
              "      <td>2020-06-02</td>\n",
              "      <td>1</td>\n",
              "    </tr>\n",
              "    <tr>\n",
              "      <th>7</th>\n",
              "      <td>2020-06-02</td>\n",
              "      <td>16</td>\n",
              "    </tr>\n",
              "    <tr>\n",
              "      <th>8</th>\n",
              "      <td>2020-06-02</td>\n",
              "      <td>10</td>\n",
              "    </tr>\n",
              "    <tr>\n",
              "      <th>9</th>\n",
              "      <td>2020-06-02</td>\n",
              "      <td>1</td>\n",
              "    </tr>\n",
              "    <tr>\n",
              "      <th>10</th>\n",
              "      <td>2020-06-03</td>\n",
              "      <td>11</td>\n",
              "    </tr>\n",
              "    <tr>\n",
              "      <th>11</th>\n",
              "      <td>2020-06-03</td>\n",
              "      <td>18</td>\n",
              "    </tr>\n",
              "    <tr>\n",
              "      <th>12</th>\n",
              "      <td>2020-06-03</td>\n",
              "      <td>36</td>\n",
              "    </tr>\n",
              "    <tr>\n",
              "      <th>13</th>\n",
              "      <td>2020-06-03</td>\n",
              "      <td>1</td>\n",
              "    </tr>\n",
              "    <tr>\n",
              "      <th>14</th>\n",
              "      <td>2020-06-04</td>\n",
              "      <td>6</td>\n",
              "    </tr>\n",
              "    <tr>\n",
              "      <th>15</th>\n",
              "      <td>2020-06-04</td>\n",
              "      <td>23</td>\n",
              "    </tr>\n",
              "    <tr>\n",
              "      <th>16</th>\n",
              "      <td>2020-06-04</td>\n",
              "      <td>20</td>\n",
              "    </tr>\n",
              "    <tr>\n",
              "      <th>17</th>\n",
              "      <td>2020-06-04</td>\n",
              "      <td>16</td>\n",
              "    </tr>\n",
              "    <tr>\n",
              "      <th>18</th>\n",
              "      <td>2020-06-04</td>\n",
              "      <td>4</td>\n",
              "    </tr>\n",
              "    <tr>\n",
              "      <th>19</th>\n",
              "      <td>2020-06-05</td>\n",
              "      <td>14</td>\n",
              "    </tr>\n",
              "  </tbody>\n",
              "</table>\n",
              "</div>"
            ],
            "text/plain": [
              "          date  count\n",
              "0   2020-06-01      1\n",
              "1   2020-06-01     16\n",
              "2   2020-06-01     29\n",
              "3   2020-06-01     12\n",
              "4   2020-06-02     26\n",
              "5   2020-06-02      3\n",
              "6   2020-06-02      1\n",
              "7   2020-06-02     16\n",
              "8   2020-06-02     10\n",
              "9   2020-06-02      1\n",
              "10  2020-06-03     11\n",
              "11  2020-06-03     18\n",
              "12  2020-06-03     36\n",
              "13  2020-06-03      1\n",
              "14  2020-06-04      6\n",
              "15  2020-06-04     23\n",
              "16  2020-06-04     20\n",
              "17  2020-06-04     16\n",
              "18  2020-06-04      4\n",
              "19  2020-06-05     14"
            ]
          },
          "metadata": {
            "tags": []
          },
          "execution_count": 72
        }
      ]
    },
    {
      "cell_type": "code",
      "metadata": {
        "id": "c9bhInJcgKha"
      },
      "source": [
        "lead=lead[(lead['date']>='2021-01-01') & (lead['date']<='2021-04-15')]"
      ],
      "execution_count": 73,
      "outputs": []
    },
    {
      "cell_type": "code",
      "metadata": {
        "colab": {
          "base_uri": "https://localhost:8080/",
          "height": 206
        },
        "id": "aGNtc5EFhRXe",
        "outputId": "cb7950e7-ddc1-46d6-f094-2030d41c0ae8"
      },
      "source": [
        "lead.head()"
      ],
      "execution_count": 74,
      "outputs": [
        {
          "output_type": "execute_result",
          "data": {
            "text/html": [
              "<div>\n",
              "<style scoped>\n",
              "    .dataframe tbody tr th:only-of-type {\n",
              "        vertical-align: middle;\n",
              "    }\n",
              "\n",
              "    .dataframe tbody tr th {\n",
              "        vertical-align: top;\n",
              "    }\n",
              "\n",
              "    .dataframe thead th {\n",
              "        text-align: right;\n",
              "    }\n",
              "</style>\n",
              "<table border=\"1\" class=\"dataframe\">\n",
              "  <thead>\n",
              "    <tr style=\"text-align: right;\">\n",
              "      <th></th>\n",
              "      <th>date</th>\n",
              "      <th>count</th>\n",
              "    </tr>\n",
              "  </thead>\n",
              "  <tbody>\n",
              "    <tr>\n",
              "      <th>854</th>\n",
              "      <td>2021-01-01</td>\n",
              "      <td>5</td>\n",
              "    </tr>\n",
              "    <tr>\n",
              "      <th>855</th>\n",
              "      <td>2021-01-01</td>\n",
              "      <td>13</td>\n",
              "    </tr>\n",
              "    <tr>\n",
              "      <th>856</th>\n",
              "      <td>2021-01-01</td>\n",
              "      <td>1</td>\n",
              "    </tr>\n",
              "    <tr>\n",
              "      <th>857</th>\n",
              "      <td>2021-01-02</td>\n",
              "      <td>9</td>\n",
              "    </tr>\n",
              "    <tr>\n",
              "      <th>858</th>\n",
              "      <td>2021-01-02</td>\n",
              "      <td>4</td>\n",
              "    </tr>\n",
              "  </tbody>\n",
              "</table>\n",
              "</div>"
            ],
            "text/plain": [
              "           date  count\n",
              "854  2021-01-01      5\n",
              "855  2021-01-01     13\n",
              "856  2021-01-01      1\n",
              "857  2021-01-02      9\n",
              "858  2021-01-02      4"
            ]
          },
          "metadata": {
            "tags": []
          },
          "execution_count": 74
        }
      ]
    },
    {
      "cell_type": "code",
      "metadata": {
        "id": "y7Hh4mMz4Wpg"
      },
      "source": [
        "data=lead.groupby('date').sum()['count'].reset_index()\n"
      ],
      "execution_count": 75,
      "outputs": []
    },
    {
      "cell_type": "code",
      "metadata": {
        "id": "3m5qeZVt4ewn",
        "colab": {
          "base_uri": "https://localhost:8080/",
          "height": 424
        },
        "outputId": "874d13b2-73ad-4b3c-9556-e7746cd6555c"
      },
      "source": [
        "data"
      ],
      "execution_count": 76,
      "outputs": [
        {
          "output_type": "execute_result",
          "data": {
            "text/html": [
              "<div>\n",
              "<style scoped>\n",
              "    .dataframe tbody tr th:only-of-type {\n",
              "        vertical-align: middle;\n",
              "    }\n",
              "\n",
              "    .dataframe tbody tr th {\n",
              "        vertical-align: top;\n",
              "    }\n",
              "\n",
              "    .dataframe thead th {\n",
              "        text-align: right;\n",
              "    }\n",
              "</style>\n",
              "<table border=\"1\" class=\"dataframe\">\n",
              "  <thead>\n",
              "    <tr style=\"text-align: right;\">\n",
              "      <th></th>\n",
              "      <th>date</th>\n",
              "      <th>count</th>\n",
              "    </tr>\n",
              "  </thead>\n",
              "  <tbody>\n",
              "    <tr>\n",
              "      <th>0</th>\n",
              "      <td>2021-01-01</td>\n",
              "      <td>19</td>\n",
              "    </tr>\n",
              "    <tr>\n",
              "      <th>1</th>\n",
              "      <td>2021-01-02</td>\n",
              "      <td>29</td>\n",
              "    </tr>\n",
              "    <tr>\n",
              "      <th>2</th>\n",
              "      <td>2021-01-03</td>\n",
              "      <td>18</td>\n",
              "    </tr>\n",
              "    <tr>\n",
              "      <th>3</th>\n",
              "      <td>2021-01-04</td>\n",
              "      <td>198</td>\n",
              "    </tr>\n",
              "    <tr>\n",
              "      <th>4</th>\n",
              "      <td>2021-01-05</td>\n",
              "      <td>32</td>\n",
              "    </tr>\n",
              "    <tr>\n",
              "      <th>...</th>\n",
              "      <td>...</td>\n",
              "      <td>...</td>\n",
              "    </tr>\n",
              "    <tr>\n",
              "      <th>100</th>\n",
              "      <td>2021-04-11</td>\n",
              "      <td>13</td>\n",
              "    </tr>\n",
              "    <tr>\n",
              "      <th>101</th>\n",
              "      <td>2021-04-12</td>\n",
              "      <td>32</td>\n",
              "    </tr>\n",
              "    <tr>\n",
              "      <th>102</th>\n",
              "      <td>2021-04-13</td>\n",
              "      <td>37</td>\n",
              "    </tr>\n",
              "    <tr>\n",
              "      <th>103</th>\n",
              "      <td>2021-04-14</td>\n",
              "      <td>37</td>\n",
              "    </tr>\n",
              "    <tr>\n",
              "      <th>104</th>\n",
              "      <td>2021-04-15</td>\n",
              "      <td>71</td>\n",
              "    </tr>\n",
              "  </tbody>\n",
              "</table>\n",
              "<p>105 rows × 2 columns</p>\n",
              "</div>"
            ],
            "text/plain": [
              "           date  count\n",
              "0    2021-01-01     19\n",
              "1    2021-01-02     29\n",
              "2    2021-01-03     18\n",
              "3    2021-01-04    198\n",
              "4    2021-01-05     32\n",
              "..          ...    ...\n",
              "100  2021-04-11     13\n",
              "101  2021-04-12     32\n",
              "102  2021-04-13     37\n",
              "103  2021-04-14     37\n",
              "104  2021-04-15     71\n",
              "\n",
              "[105 rows x 2 columns]"
            ]
          },
          "metadata": {
            "tags": []
          },
          "execution_count": 76
        }
      ]
    },
    {
      "cell_type": "code",
      "metadata": {
        "id": "N7MnFo354j_o"
      },
      "source": [
        "data.columns=['ds','y']\n"
      ],
      "execution_count": 77,
      "outputs": []
    },
    {
      "cell_type": "code",
      "metadata": {
        "id": "i_PzEJ484m62"
      },
      "source": [
        "model=Prophet(interval_width=0.95)\n"
      ],
      "execution_count": 78,
      "outputs": []
    },
    {
      "cell_type": "code",
      "metadata": {
        "id": "1hkCkXlR4y72",
        "colab": {
          "base_uri": "https://localhost:8080/"
        },
        "outputId": "7e6f653c-327e-4559-b499-957a2da5a297"
      },
      "source": [
        "model.fit(data)\n"
      ],
      "execution_count": 79,
      "outputs": [
        {
          "output_type": "stream",
          "text": [
            "INFO:fbprophet:Disabling yearly seasonality. Run prophet with yearly_seasonality=True to override this.\n",
            "INFO:fbprophet:Disabling daily seasonality. Run prophet with daily_seasonality=True to override this.\n"
          ],
          "name": "stderr"
        },
        {
          "output_type": "execute_result",
          "data": {
            "text/plain": [
              "<fbprophet.forecaster.Prophet at 0x7f434dc2f490>"
            ]
          },
          "metadata": {
            "tags": []
          },
          "execution_count": 79
        }
      ]
    },
    {
      "cell_type": "code",
      "metadata": {
        "id": "Z2i-4-LX45EK"
      },
      "source": [
        "future=model.make_future_dataframe(periods=100)\n"
      ],
      "execution_count": 80,
      "outputs": []
    },
    {
      "cell_type": "code",
      "metadata": {
        "id": "XfwaYchP5A1c",
        "colab": {
          "base_uri": "https://localhost:8080/",
          "height": 424
        },
        "outputId": "30cbfe98-2c83-49d6-bf31-8df1d0c0638d"
      },
      "source": [
        "future"
      ],
      "execution_count": 81,
      "outputs": [
        {
          "output_type": "execute_result",
          "data": {
            "text/html": [
              "<div>\n",
              "<style scoped>\n",
              "    .dataframe tbody tr th:only-of-type {\n",
              "        vertical-align: middle;\n",
              "    }\n",
              "\n",
              "    .dataframe tbody tr th {\n",
              "        vertical-align: top;\n",
              "    }\n",
              "\n",
              "    .dataframe thead th {\n",
              "        text-align: right;\n",
              "    }\n",
              "</style>\n",
              "<table border=\"1\" class=\"dataframe\">\n",
              "  <thead>\n",
              "    <tr style=\"text-align: right;\">\n",
              "      <th></th>\n",
              "      <th>ds</th>\n",
              "    </tr>\n",
              "  </thead>\n",
              "  <tbody>\n",
              "    <tr>\n",
              "      <th>0</th>\n",
              "      <td>2021-01-01</td>\n",
              "    </tr>\n",
              "    <tr>\n",
              "      <th>1</th>\n",
              "      <td>2021-01-02</td>\n",
              "    </tr>\n",
              "    <tr>\n",
              "      <th>2</th>\n",
              "      <td>2021-01-03</td>\n",
              "    </tr>\n",
              "    <tr>\n",
              "      <th>3</th>\n",
              "      <td>2021-01-04</td>\n",
              "    </tr>\n",
              "    <tr>\n",
              "      <th>4</th>\n",
              "      <td>2021-01-05</td>\n",
              "    </tr>\n",
              "    <tr>\n",
              "      <th>...</th>\n",
              "      <td>...</td>\n",
              "    </tr>\n",
              "    <tr>\n",
              "      <th>200</th>\n",
              "      <td>2021-07-20</td>\n",
              "    </tr>\n",
              "    <tr>\n",
              "      <th>201</th>\n",
              "      <td>2021-07-21</td>\n",
              "    </tr>\n",
              "    <tr>\n",
              "      <th>202</th>\n",
              "      <td>2021-07-22</td>\n",
              "    </tr>\n",
              "    <tr>\n",
              "      <th>203</th>\n",
              "      <td>2021-07-23</td>\n",
              "    </tr>\n",
              "    <tr>\n",
              "      <th>204</th>\n",
              "      <td>2021-07-24</td>\n",
              "    </tr>\n",
              "  </tbody>\n",
              "</table>\n",
              "<p>205 rows × 1 columns</p>\n",
              "</div>"
            ],
            "text/plain": [
              "            ds\n",
              "0   2021-01-01\n",
              "1   2021-01-02\n",
              "2   2021-01-03\n",
              "3   2021-01-04\n",
              "4   2021-01-05\n",
              "..         ...\n",
              "200 2021-07-20\n",
              "201 2021-07-21\n",
              "202 2021-07-22\n",
              "203 2021-07-23\n",
              "204 2021-07-24\n",
              "\n",
              "[205 rows x 1 columns]"
            ]
          },
          "metadata": {
            "tags": []
          },
          "execution_count": 81
        }
      ]
    },
    {
      "cell_type": "code",
      "metadata": {
        "id": "dV_Msl_-5VwN"
      },
      "source": [
        "pred=model.predict(future)\n"
      ],
      "execution_count": 82,
      "outputs": []
    },
    {
      "cell_type": "code",
      "metadata": {
        "id": "lxcITUaq5ZCm",
        "colab": {
          "base_uri": "https://localhost:8080/",
          "height": 617
        },
        "outputId": "e3a9dd6e-cd53-4a17-b494-de4498ddc074"
      },
      "source": [
        "pred\n"
      ],
      "execution_count": 83,
      "outputs": [
        {
          "output_type": "execute_result",
          "data": {
            "text/html": [
              "<div>\n",
              "<style scoped>\n",
              "    .dataframe tbody tr th:only-of-type {\n",
              "        vertical-align: middle;\n",
              "    }\n",
              "\n",
              "    .dataframe tbody tr th {\n",
              "        vertical-align: top;\n",
              "    }\n",
              "\n",
              "    .dataframe thead th {\n",
              "        text-align: right;\n",
              "    }\n",
              "</style>\n",
              "<table border=\"1\" class=\"dataframe\">\n",
              "  <thead>\n",
              "    <tr style=\"text-align: right;\">\n",
              "      <th></th>\n",
              "      <th>ds</th>\n",
              "      <th>trend</th>\n",
              "      <th>yhat_lower</th>\n",
              "      <th>yhat_upper</th>\n",
              "      <th>trend_lower</th>\n",
              "      <th>trend_upper</th>\n",
              "      <th>additive_terms</th>\n",
              "      <th>additive_terms_lower</th>\n",
              "      <th>additive_terms_upper</th>\n",
              "      <th>weekly</th>\n",
              "      <th>weekly_lower</th>\n",
              "      <th>weekly_upper</th>\n",
              "      <th>multiplicative_terms</th>\n",
              "      <th>multiplicative_terms_lower</th>\n",
              "      <th>multiplicative_terms_upper</th>\n",
              "      <th>yhat</th>\n",
              "    </tr>\n",
              "  </thead>\n",
              "  <tbody>\n",
              "    <tr>\n",
              "      <th>0</th>\n",
              "      <td>2021-01-01</td>\n",
              "      <td>60.474451</td>\n",
              "      <td>-37.315412</td>\n",
              "      <td>195.609538</td>\n",
              "      <td>60.474451</td>\n",
              "      <td>60.474451</td>\n",
              "      <td>14.350627</td>\n",
              "      <td>14.350627</td>\n",
              "      <td>14.350627</td>\n",
              "      <td>14.350627</td>\n",
              "      <td>14.350627</td>\n",
              "      <td>14.350627</td>\n",
              "      <td>0.0</td>\n",
              "      <td>0.0</td>\n",
              "      <td>0.0</td>\n",
              "      <td>74.825078</td>\n",
              "    </tr>\n",
              "    <tr>\n",
              "      <th>1</th>\n",
              "      <td>2021-01-02</td>\n",
              "      <td>60.565150</td>\n",
              "      <td>-37.173666</td>\n",
              "      <td>168.935109</td>\n",
              "      <td>60.565150</td>\n",
              "      <td>60.565150</td>\n",
              "      <td>3.562210</td>\n",
              "      <td>3.562210</td>\n",
              "      <td>3.562210</td>\n",
              "      <td>3.562210</td>\n",
              "      <td>3.562210</td>\n",
              "      <td>3.562210</td>\n",
              "      <td>0.0</td>\n",
              "      <td>0.0</td>\n",
              "      <td>0.0</td>\n",
              "      <td>64.127360</td>\n",
              "    </tr>\n",
              "    <tr>\n",
              "      <th>2</th>\n",
              "      <td>2021-01-03</td>\n",
              "      <td>60.655849</td>\n",
              "      <td>-63.596405</td>\n",
              "      <td>150.789040</td>\n",
              "      <td>60.655849</td>\n",
              "      <td>60.655849</td>\n",
              "      <td>-15.609116</td>\n",
              "      <td>-15.609116</td>\n",
              "      <td>-15.609116</td>\n",
              "      <td>-15.609116</td>\n",
              "      <td>-15.609116</td>\n",
              "      <td>-15.609116</td>\n",
              "      <td>0.0</td>\n",
              "      <td>0.0</td>\n",
              "      <td>0.0</td>\n",
              "      <td>45.046733</td>\n",
              "    </tr>\n",
              "    <tr>\n",
              "      <th>3</th>\n",
              "      <td>2021-01-04</td>\n",
              "      <td>60.746548</td>\n",
              "      <td>-42.429020</td>\n",
              "      <td>169.287434</td>\n",
              "      <td>60.746548</td>\n",
              "      <td>60.746548</td>\n",
              "      <td>5.986234</td>\n",
              "      <td>5.986234</td>\n",
              "      <td>5.986234</td>\n",
              "      <td>5.986234</td>\n",
              "      <td>5.986234</td>\n",
              "      <td>5.986234</td>\n",
              "      <td>0.0</td>\n",
              "      <td>0.0</td>\n",
              "      <td>0.0</td>\n",
              "      <td>66.732782</td>\n",
              "    </tr>\n",
              "    <tr>\n",
              "      <th>4</th>\n",
              "      <td>2021-01-05</td>\n",
              "      <td>60.837247</td>\n",
              "      <td>-50.880817</td>\n",
              "      <td>156.173078</td>\n",
              "      <td>60.837247</td>\n",
              "      <td>60.837247</td>\n",
              "      <td>-12.313375</td>\n",
              "      <td>-12.313375</td>\n",
              "      <td>-12.313375</td>\n",
              "      <td>-12.313375</td>\n",
              "      <td>-12.313375</td>\n",
              "      <td>-12.313375</td>\n",
              "      <td>0.0</td>\n",
              "      <td>0.0</td>\n",
              "      <td>0.0</td>\n",
              "      <td>48.523871</td>\n",
              "    </tr>\n",
              "    <tr>\n",
              "      <th>...</th>\n",
              "      <td>...</td>\n",
              "      <td>...</td>\n",
              "      <td>...</td>\n",
              "      <td>...</td>\n",
              "      <td>...</td>\n",
              "      <td>...</td>\n",
              "      <td>...</td>\n",
              "      <td>...</td>\n",
              "      <td>...</td>\n",
              "      <td>...</td>\n",
              "      <td>...</td>\n",
              "      <td>...</td>\n",
              "      <td>...</td>\n",
              "      <td>...</td>\n",
              "      <td>...</td>\n",
              "      <td>...</td>\n",
              "    </tr>\n",
              "    <tr>\n",
              "      <th>200</th>\n",
              "      <td>2021-07-20</td>\n",
              "      <td>76.360284</td>\n",
              "      <td>-40.445319</td>\n",
              "      <td>172.569522</td>\n",
              "      <td>75.874664</td>\n",
              "      <td>76.848461</td>\n",
              "      <td>-12.313375</td>\n",
              "      <td>-12.313375</td>\n",
              "      <td>-12.313375</td>\n",
              "      <td>-12.313375</td>\n",
              "      <td>-12.313375</td>\n",
              "      <td>-12.313375</td>\n",
              "      <td>0.0</td>\n",
              "      <td>0.0</td>\n",
              "      <td>0.0</td>\n",
              "      <td>64.046908</td>\n",
              "    </tr>\n",
              "    <tr>\n",
              "      <th>201</th>\n",
              "      <td>2021-07-21</td>\n",
              "      <td>76.434162</td>\n",
              "      <td>-42.315701</td>\n",
              "      <td>181.431842</td>\n",
              "      <td>75.937474</td>\n",
              "      <td>76.933364</td>\n",
              "      <td>-13.647942</td>\n",
              "      <td>-13.647942</td>\n",
              "      <td>-13.647942</td>\n",
              "      <td>-13.647942</td>\n",
              "      <td>-13.647942</td>\n",
              "      <td>-13.647942</td>\n",
              "      <td>0.0</td>\n",
              "      <td>0.0</td>\n",
              "      <td>0.0</td>\n",
              "      <td>62.786220</td>\n",
              "    </tr>\n",
              "    <tr>\n",
              "      <th>202</th>\n",
              "      <td>2021-07-22</td>\n",
              "      <td>76.508039</td>\n",
              "      <td>-3.291706</td>\n",
              "      <td>200.296496</td>\n",
              "      <td>76.001116</td>\n",
              "      <td>77.018294</td>\n",
              "      <td>17.671363</td>\n",
              "      <td>17.671363</td>\n",
              "      <td>17.671363</td>\n",
              "      <td>17.671363</td>\n",
              "      <td>17.671363</td>\n",
              "      <td>17.671363</td>\n",
              "      <td>0.0</td>\n",
              "      <td>0.0</td>\n",
              "      <td>0.0</td>\n",
              "      <td>94.179402</td>\n",
              "    </tr>\n",
              "    <tr>\n",
              "      <th>203</th>\n",
              "      <td>2021-07-23</td>\n",
              "      <td>76.581917</td>\n",
              "      <td>-19.656026</td>\n",
              "      <td>196.824577</td>\n",
              "      <td>76.065464</td>\n",
              "      <td>77.100174</td>\n",
              "      <td>14.350627</td>\n",
              "      <td>14.350627</td>\n",
              "      <td>14.350627</td>\n",
              "      <td>14.350627</td>\n",
              "      <td>14.350627</td>\n",
              "      <td>14.350627</td>\n",
              "      <td>0.0</td>\n",
              "      <td>0.0</td>\n",
              "      <td>0.0</td>\n",
              "      <td>90.932544</td>\n",
              "    </tr>\n",
              "    <tr>\n",
              "      <th>204</th>\n",
              "      <td>2021-07-24</td>\n",
              "      <td>76.655795</td>\n",
              "      <td>-22.129841</td>\n",
              "      <td>183.531672</td>\n",
              "      <td>76.131639</td>\n",
              "      <td>77.176469</td>\n",
              "      <td>3.562210</td>\n",
              "      <td>3.562210</td>\n",
              "      <td>3.562210</td>\n",
              "      <td>3.562210</td>\n",
              "      <td>3.562210</td>\n",
              "      <td>3.562210</td>\n",
              "      <td>0.0</td>\n",
              "      <td>0.0</td>\n",
              "      <td>0.0</td>\n",
              "      <td>80.218005</td>\n",
              "    </tr>\n",
              "  </tbody>\n",
              "</table>\n",
              "<p>205 rows × 16 columns</p>\n",
              "</div>"
            ],
            "text/plain": [
              "            ds      trend  ...  multiplicative_terms_upper       yhat\n",
              "0   2021-01-01  60.474451  ...                         0.0  74.825078\n",
              "1   2021-01-02  60.565150  ...                         0.0  64.127360\n",
              "2   2021-01-03  60.655849  ...                         0.0  45.046733\n",
              "3   2021-01-04  60.746548  ...                         0.0  66.732782\n",
              "4   2021-01-05  60.837247  ...                         0.0  48.523871\n",
              "..         ...        ...  ...                         ...        ...\n",
              "200 2021-07-20  76.360284  ...                         0.0  64.046908\n",
              "201 2021-07-21  76.434162  ...                         0.0  62.786220\n",
              "202 2021-07-22  76.508039  ...                         0.0  94.179402\n",
              "203 2021-07-23  76.581917  ...                         0.0  90.932544\n",
              "204 2021-07-24  76.655795  ...                         0.0  80.218005\n",
              "\n",
              "[205 rows x 16 columns]"
            ]
          },
          "metadata": {
            "tags": []
          },
          "execution_count": 83
        }
      ]
    },
    {
      "cell_type": "code",
      "metadata": {
        "id": "sdu_xSr85cEG",
        "colab": {
          "base_uri": "https://localhost:8080/",
          "height": 206
        },
        "outputId": "75299f29-9171-43bd-c535-63cc28586bb9"
      },
      "source": [
        "pred[['ds','yhat','yhat_lower','yhat_upper']].tail()\n"
      ],
      "execution_count": 84,
      "outputs": [
        {
          "output_type": "execute_result",
          "data": {
            "text/html": [
              "<div>\n",
              "<style scoped>\n",
              "    .dataframe tbody tr th:only-of-type {\n",
              "        vertical-align: middle;\n",
              "    }\n",
              "\n",
              "    .dataframe tbody tr th {\n",
              "        vertical-align: top;\n",
              "    }\n",
              "\n",
              "    .dataframe thead th {\n",
              "        text-align: right;\n",
              "    }\n",
              "</style>\n",
              "<table border=\"1\" class=\"dataframe\">\n",
              "  <thead>\n",
              "    <tr style=\"text-align: right;\">\n",
              "      <th></th>\n",
              "      <th>ds</th>\n",
              "      <th>yhat</th>\n",
              "      <th>yhat_lower</th>\n",
              "      <th>yhat_upper</th>\n",
              "    </tr>\n",
              "  </thead>\n",
              "  <tbody>\n",
              "    <tr>\n",
              "      <th>200</th>\n",
              "      <td>2021-07-20</td>\n",
              "      <td>64.046908</td>\n",
              "      <td>-40.445319</td>\n",
              "      <td>172.569522</td>\n",
              "    </tr>\n",
              "    <tr>\n",
              "      <th>201</th>\n",
              "      <td>2021-07-21</td>\n",
              "      <td>62.786220</td>\n",
              "      <td>-42.315701</td>\n",
              "      <td>181.431842</td>\n",
              "    </tr>\n",
              "    <tr>\n",
              "      <th>202</th>\n",
              "      <td>2021-07-22</td>\n",
              "      <td>94.179402</td>\n",
              "      <td>-3.291706</td>\n",
              "      <td>200.296496</td>\n",
              "    </tr>\n",
              "    <tr>\n",
              "      <th>203</th>\n",
              "      <td>2021-07-23</td>\n",
              "      <td>90.932544</td>\n",
              "      <td>-19.656026</td>\n",
              "      <td>196.824577</td>\n",
              "    </tr>\n",
              "    <tr>\n",
              "      <th>204</th>\n",
              "      <td>2021-07-24</td>\n",
              "      <td>80.218005</td>\n",
              "      <td>-22.129841</td>\n",
              "      <td>183.531672</td>\n",
              "    </tr>\n",
              "  </tbody>\n",
              "</table>\n",
              "</div>"
            ],
            "text/plain": [
              "            ds       yhat  yhat_lower  yhat_upper\n",
              "200 2021-07-20  64.046908  -40.445319  172.569522\n",
              "201 2021-07-21  62.786220  -42.315701  181.431842\n",
              "202 2021-07-22  94.179402   -3.291706  200.296496\n",
              "203 2021-07-23  90.932544  -19.656026  196.824577\n",
              "204 2021-07-24  80.218005  -22.129841  183.531672"
            ]
          },
          "metadata": {
            "tags": []
          },
          "execution_count": 84
        }
      ]
    },
    {
      "cell_type": "code",
      "metadata": {
        "colab": {
          "base_uri": "https://localhost:8080/",
          "height": 206
        },
        "id": "yeeHq8RQhzpe",
        "outputId": "6e30a1ac-f45f-45c9-e503-308f553c8e95"
      },
      "source": [
        "pred[['ds','yhat','yhat_lower','yhat_upper']].head()\n"
      ],
      "execution_count": 85,
      "outputs": [
        {
          "output_type": "execute_result",
          "data": {
            "text/html": [
              "<div>\n",
              "<style scoped>\n",
              "    .dataframe tbody tr th:only-of-type {\n",
              "        vertical-align: middle;\n",
              "    }\n",
              "\n",
              "    .dataframe tbody tr th {\n",
              "        vertical-align: top;\n",
              "    }\n",
              "\n",
              "    .dataframe thead th {\n",
              "        text-align: right;\n",
              "    }\n",
              "</style>\n",
              "<table border=\"1\" class=\"dataframe\">\n",
              "  <thead>\n",
              "    <tr style=\"text-align: right;\">\n",
              "      <th></th>\n",
              "      <th>ds</th>\n",
              "      <th>yhat</th>\n",
              "      <th>yhat_lower</th>\n",
              "      <th>yhat_upper</th>\n",
              "    </tr>\n",
              "  </thead>\n",
              "  <tbody>\n",
              "    <tr>\n",
              "      <th>0</th>\n",
              "      <td>2021-01-01</td>\n",
              "      <td>74.825078</td>\n",
              "      <td>-37.315412</td>\n",
              "      <td>195.609538</td>\n",
              "    </tr>\n",
              "    <tr>\n",
              "      <th>1</th>\n",
              "      <td>2021-01-02</td>\n",
              "      <td>64.127360</td>\n",
              "      <td>-37.173666</td>\n",
              "      <td>168.935109</td>\n",
              "    </tr>\n",
              "    <tr>\n",
              "      <th>2</th>\n",
              "      <td>2021-01-03</td>\n",
              "      <td>45.046733</td>\n",
              "      <td>-63.596405</td>\n",
              "      <td>150.789040</td>\n",
              "    </tr>\n",
              "    <tr>\n",
              "      <th>3</th>\n",
              "      <td>2021-01-04</td>\n",
              "      <td>66.732782</td>\n",
              "      <td>-42.429020</td>\n",
              "      <td>169.287434</td>\n",
              "    </tr>\n",
              "    <tr>\n",
              "      <th>4</th>\n",
              "      <td>2021-01-05</td>\n",
              "      <td>48.523871</td>\n",
              "      <td>-50.880817</td>\n",
              "      <td>156.173078</td>\n",
              "    </tr>\n",
              "  </tbody>\n",
              "</table>\n",
              "</div>"
            ],
            "text/plain": [
              "          ds       yhat  yhat_lower  yhat_upper\n",
              "0 2021-01-01  74.825078  -37.315412  195.609538\n",
              "1 2021-01-02  64.127360  -37.173666  168.935109\n",
              "2 2021-01-03  45.046733  -63.596405  150.789040\n",
              "3 2021-01-04  66.732782  -42.429020  169.287434\n",
              "4 2021-01-05  48.523871  -50.880817  156.173078"
            ]
          },
          "metadata": {
            "tags": []
          },
          "execution_count": 85
        }
      ]
    },
    {
      "cell_type": "code",
      "metadata": {
        "id": "b09ndhoD5up5"
      },
      "source": [
        "data.index=data['ds']"
      ],
      "execution_count": 86,
      "outputs": []
    },
    {
      "cell_type": "code",
      "metadata": {
        "id": "JwUEYm1a5ooZ",
        "colab": {
          "base_uri": "https://localhost:8080/",
          "height": 624
        },
        "outputId": "305fac61-5a34-41d7-c356-fd65bd643f26"
      },
      "source": [
        "data['y'].plot(figsize=(20,10))\n"
      ],
      "execution_count": 87,
      "outputs": [
        {
          "output_type": "execute_result",
          "data": {
            "text/plain": [
              "<matplotlib.axes._subplots.AxesSubplot at 0x7f4356c4cd50>"
            ]
          },
          "metadata": {
            "tags": []
          },
          "execution_count": 87
        },
        {
          "output_type": "display_data",
          "data": {
            "image/png": "[encoded data removed]",
            "text/plain": [
              "<Figure size 1440x720 with 1 Axes>"
            ]
          },
          "metadata": {
            "tags": [],
            "needs_background": "light"
          }
        }
      ]
    },
    {
      "cell_type": "code",
      "metadata": {
        "id": "KNbaXug95_S2",
        "colab": {
          "base_uri": "https://localhost:8080/",
          "height": 441
        },
        "outputId": "9d9ac280-23bd-401e-fa81-2ee13a200c6f"
      },
      "source": [
        "data_forecast=model.plot(pred)\n"
      ],
      "execution_count": 88,
      "outputs": [
        {
          "output_type": "display_data",
          "data": {
            "image/png": "[encoded data removed]",
            "text/plain": [
              "<Figure size 720x432 with 1 Axes>"
            ]
          },
          "metadata": {
            "tags": []
          }
        }
      ]
    },
    {
      "cell_type": "code",
      "metadata": {
        "id": "xmg_fl0s6DnT",
        "colab": {
          "base_uri": "https://localhost:8080/",
          "height": 441
        },
        "outputId": "269418a1-88f0-45ea-fc23-9eb8eba83240"
      },
      "source": [
        "data_forecast_plot=model.plot_components(pred)\n"
      ],
      "execution_count": 89,
      "outputs": [
        {
          "output_type": "display_data",
          "data": {
            "image/png": "[encoded data removed]",
            "text/plain": [
              "<Figure size 648x432 with 2 Axes>"
            ]
          },
          "metadata": {
            "tags": []
          }
        }
      ]
    },
    {
      "cell_type": "code",
      "metadata": {
        "id": "pq5gjmrVipF2"
      },
      "source": [
        "pred.to_csv('Prophet_Jan_Apr.csv')"
      ],
      "execution_count": 90,
      "outputs": []
    }
  ]
}