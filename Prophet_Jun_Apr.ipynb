{
  "nbformat": 4,
  "nbformat_minor": 0,
  "metadata": {
    "colab": {
      "name": "Prophet_Jun_Apr.ipynb",
      "provenance": []
    },
    "kernelspec": {
      "name": "python3",
      "display_name": "Python 3"
    },
    "language_info": {
      "name": "python"
    }
  },
  "cells": [
    {
      "cell_type": "code",
      "metadata": {
        "id": "kQnKKyG_kGn0"
      },
      "source": [
        "import pandas as pd\n",
        "import datetime as dt\n",
        "import matplotlib.pyplot as plt\n",
        "import seaborn as sns"
      ],
      "execution_count": null,
      "outputs": []
    },
    {
      "cell_type": "code",
      "metadata": {
        "id": "qsDtuq9BkTnU"
      },
      "source": [
        "dateparse = lambda x: datetime.strptime(x, '%Y-%m-%d %H:%M:%S')"
      ],
      "execution_count": null,
      "outputs": []
    },
    {
      "cell_type": "code",
      "metadata": {
        "id": "-xnzKQJdkW3c"
      },
      "source": [
        "lead=pd.read_csv('/content/Leads_TimeSeries_Oye!.csv',date_parser=dateparse)"
      ],
      "execution_count": null,
      "outputs": []
    },
    {
      "cell_type": "code",
      "metadata": {
        "id": "9WE5KZsEg4kH"
      },
      "source": [
        "lead.drop('lead_source',axis=1,inplace=True)"
      ],
      "execution_count": null,
      "outputs": []
    },
    {
      "cell_type": "markdown",
      "metadata": {
        "id": "L6Jr4AXB69Ku"
      },
      "source": [
        "**PROPHET MODEL**"
      ]
    },
    {
      "cell_type": "code",
      "metadata": {
        "id": "b4tSzu-W37ay"
      },
      "source": [
        "import fbprophet"
      ],
      "execution_count": null,
      "outputs": []
    },
    {
      "cell_type": "code",
      "metadata": {
        "id": "0bO3gf7o39Lo"
      },
      "source": [
        "from fbprophet import Prophet\n"
      ],
      "execution_count": null,
      "outputs": []
    },
    {
      "cell_type": "code",
      "metadata": {
        "id": "wBzWB91y4IuY",
        "colab": {
          "base_uri": "https://localhost:8080/",
          "height": 676
        },
        "outputId": "598c8523-2796-4105-adbb-1aa168e8e4a6"
      },
      "source": [
        "lead.head(20)"
      ],
      "execution_count": null,
      "outputs": [
        {
          "output_type": "execute_result",
          "data": {
            "text/html": [
              "<div>\n",
              "<style scoped>\n",
              "    .dataframe tbody tr th:only-of-type {\n",
              "        vertical-align: middle;\n",
              "    }\n",
              "\n",
              "    .dataframe tbody tr th {\n",
              "        vertical-align: top;\n",
              "    }\n",
              "\n",
              "    .dataframe thead th {\n",
              "        text-align: right;\n",
              "    }\n",
              "</style>\n",
              "<table border=\"1\" class=\"dataframe\">\n",
              "  <thead>\n",
              "    <tr style=\"text-align: right;\">\n",
              "      <th></th>\n",
              "      <th>date</th>\n",
              "      <th>count</th>\n",
              "    </tr>\n",
              "  </thead>\n",
              "  <tbody>\n",
              "    <tr>\n",
              "      <th>0</th>\n",
              "      <td>2020-06-01</td>\n",
              "      <td>1</td>\n",
              "    </tr>\n",
              "    <tr>\n",
              "      <th>1</th>\n",
              "      <td>2020-06-01</td>\n",
              "      <td>16</td>\n",
              "    </tr>\n",
              "    <tr>\n",
              "      <th>2</th>\n",
              "      <td>2020-06-01</td>\n",
              "      <td>29</td>\n",
              "    </tr>\n",
              "    <tr>\n",
              "      <th>3</th>\n",
              "      <td>2020-06-01</td>\n",
              "      <td>12</td>\n",
              "    </tr>\n",
              "    <tr>\n",
              "      <th>4</th>\n",
              "      <td>2020-06-02</td>\n",
              "      <td>26</td>\n",
              "    </tr>\n",
              "    <tr>\n",
              "      <th>5</th>\n",
              "      <td>2020-06-02</td>\n",
              "      <td>3</td>\n",
              "    </tr>\n",
              "    <tr>\n",
              "      <th>6</th>\n",
              "      <td>2020-06-02</td>\n",
              "      <td>1</td>\n",
              "    </tr>\n",
              "    <tr>\n",
              "      <th>7</th>\n",
              "      <td>2020-06-02</td>\n",
              "      <td>16</td>\n",
              "    </tr>\n",
              "    <tr>\n",
              "      <th>8</th>\n",
              "      <td>2020-06-02</td>\n",
              "      <td>10</td>\n",
              "    </tr>\n",
              "    <tr>\n",
              "      <th>9</th>\n",
              "      <td>2020-06-02</td>\n",
              "      <td>1</td>\n",
              "    </tr>\n",
              "    <tr>\n",
              "      <th>10</th>\n",
              "      <td>2020-06-03</td>\n",
              "      <td>11</td>\n",
              "    </tr>\n",
              "    <tr>\n",
              "      <th>11</th>\n",
              "      <td>2020-06-03</td>\n",
              "      <td>18</td>\n",
              "    </tr>\n",
              "    <tr>\n",
              "      <th>12</th>\n",
              "      <td>2020-06-03</td>\n",
              "      <td>36</td>\n",
              "    </tr>\n",
              "    <tr>\n",
              "      <th>13</th>\n",
              "      <td>2020-06-03</td>\n",
              "      <td>1</td>\n",
              "    </tr>\n",
              "    <tr>\n",
              "      <th>14</th>\n",
              "      <td>2020-06-04</td>\n",
              "      <td>6</td>\n",
              "    </tr>\n",
              "    <tr>\n",
              "      <th>15</th>\n",
              "      <td>2020-06-04</td>\n",
              "      <td>23</td>\n",
              "    </tr>\n",
              "    <tr>\n",
              "      <th>16</th>\n",
              "      <td>2020-06-04</td>\n",
              "      <td>20</td>\n",
              "    </tr>\n",
              "    <tr>\n",
              "      <th>17</th>\n",
              "      <td>2020-06-04</td>\n",
              "      <td>16</td>\n",
              "    </tr>\n",
              "    <tr>\n",
              "      <th>18</th>\n",
              "      <td>2020-06-04</td>\n",
              "      <td>4</td>\n",
              "    </tr>\n",
              "    <tr>\n",
              "      <th>19</th>\n",
              "      <td>2020-06-05</td>\n",
              "      <td>14</td>\n",
              "    </tr>\n",
              "  </tbody>\n",
              "</table>\n",
              "</div>"
            ],
            "text/plain": [
              "          date  count\n",
              "0   2020-06-01      1\n",
              "1   2020-06-01     16\n",
              "2   2020-06-01     29\n",
              "3   2020-06-01     12\n",
              "4   2020-06-02     26\n",
              "5   2020-06-02      3\n",
              "6   2020-06-02      1\n",
              "7   2020-06-02     16\n",
              "8   2020-06-02     10\n",
              "9   2020-06-02      1\n",
              "10  2020-06-03     11\n",
              "11  2020-06-03     18\n",
              "12  2020-06-03     36\n",
              "13  2020-06-03      1\n",
              "14  2020-06-04      6\n",
              "15  2020-06-04     23\n",
              "16  2020-06-04     20\n",
              "17  2020-06-04     16\n",
              "18  2020-06-04      4\n",
              "19  2020-06-05     14"
            ]
          },
          "metadata": {
            "tags": []
          },
          "execution_count": 97
        }
      ]
    },
    {
      "cell_type": "code",
      "metadata": {
        "id": "c9bhInJcgKha"
      },
      "source": [
        "lead=lead[(lead['date']>='2020-06-01') & (lead['date']<='2021-04-15')]"
      ],
      "execution_count": null,
      "outputs": []
    },
    {
      "cell_type": "code",
      "metadata": {
        "colab": {
          "base_uri": "https://localhost:8080/",
          "height": 206
        },
        "id": "aGNtc5EFhRXe",
        "outputId": "10d4fba1-a7a2-4e3c-a277-cdda1342ec18"
      },
      "source": [
        "lead.head()"
      ],
      "execution_count": null,
      "outputs": [
        {
          "output_type": "execute_result",
          "data": {
            "text/html": [
              "<div>\n",
              "<style scoped>\n",
              "    .dataframe tbody tr th:only-of-type {\n",
              "        vertical-align: middle;\n",
              "    }\n",
              "\n",
              "    .dataframe tbody tr th {\n",
              "        vertical-align: top;\n",
              "    }\n",
              "\n",
              "    .dataframe thead th {\n",
              "        text-align: right;\n",
              "    }\n",
              "</style>\n",
              "<table border=\"1\" class=\"dataframe\">\n",
              "  <thead>\n",
              "    <tr style=\"text-align: right;\">\n",
              "      <th></th>\n",
              "      <th>date</th>\n",
              "      <th>count</th>\n",
              "    </tr>\n",
              "  </thead>\n",
              "  <tbody>\n",
              "    <tr>\n",
              "      <th>0</th>\n",
              "      <td>2020-06-01</td>\n",
              "      <td>1</td>\n",
              "    </tr>\n",
              "    <tr>\n",
              "      <th>1</th>\n",
              "      <td>2020-06-01</td>\n",
              "      <td>16</td>\n",
              "    </tr>\n",
              "    <tr>\n",
              "      <th>2</th>\n",
              "      <td>2020-06-01</td>\n",
              "      <td>29</td>\n",
              "    </tr>\n",
              "    <tr>\n",
              "      <th>3</th>\n",
              "      <td>2020-06-01</td>\n",
              "      <td>12</td>\n",
              "    </tr>\n",
              "    <tr>\n",
              "      <th>4</th>\n",
              "      <td>2020-06-02</td>\n",
              "      <td>26</td>\n",
              "    </tr>\n",
              "  </tbody>\n",
              "</table>\n",
              "</div>"
            ],
            "text/plain": [
              "         date  count\n",
              "0  2020-06-01      1\n",
              "1  2020-06-01     16\n",
              "2  2020-06-01     29\n",
              "3  2020-06-01     12\n",
              "4  2020-06-02     26"
            ]
          },
          "metadata": {
            "tags": []
          },
          "execution_count": 99
        }
      ]
    },
    {
      "cell_type": "code",
      "metadata": {
        "id": "y7Hh4mMz4Wpg"
      },
      "source": [
        "data=lead.groupby('date').sum()['count'].reset_index()\n"
      ],
      "execution_count": null,
      "outputs": []
    },
    {
      "cell_type": "code",
      "metadata": {
        "id": "3m5qeZVt4ewn",
        "colab": {
          "base_uri": "https://localhost:8080/",
          "height": 424
        },
        "outputId": "90c4e2b5-08dc-48df-8568-6ffbf4132c51"
      },
      "source": [
        "data"
      ],
      "execution_count": null,
      "outputs": [
        {
          "output_type": "execute_result",
          "data": {
            "text/html": [
              "<div>\n",
              "<style scoped>\n",
              "    .dataframe tbody tr th:only-of-type {\n",
              "        vertical-align: middle;\n",
              "    }\n",
              "\n",
              "    .dataframe tbody tr th {\n",
              "        vertical-align: top;\n",
              "    }\n",
              "\n",
              "    .dataframe thead th {\n",
              "        text-align: right;\n",
              "    }\n",
              "</style>\n",
              "<table border=\"1\" class=\"dataframe\">\n",
              "  <thead>\n",
              "    <tr style=\"text-align: right;\">\n",
              "      <th></th>\n",
              "      <th>date</th>\n",
              "      <th>count</th>\n",
              "    </tr>\n",
              "  </thead>\n",
              "  <tbody>\n",
              "    <tr>\n",
              "      <th>0</th>\n",
              "      <td>2020-06-01</td>\n",
              "      <td>58</td>\n",
              "    </tr>\n",
              "    <tr>\n",
              "      <th>1</th>\n",
              "      <td>2020-06-02</td>\n",
              "      <td>57</td>\n",
              "    </tr>\n",
              "    <tr>\n",
              "      <th>2</th>\n",
              "      <td>2020-06-03</td>\n",
              "      <td>66</td>\n",
              "    </tr>\n",
              "    <tr>\n",
              "      <th>3</th>\n",
              "      <td>2020-06-04</td>\n",
              "      <td>69</td>\n",
              "    </tr>\n",
              "    <tr>\n",
              "      <th>4</th>\n",
              "      <td>2020-06-05</td>\n",
              "      <td>67</td>\n",
              "    </tr>\n",
              "    <tr>\n",
              "      <th>...</th>\n",
              "      <td>...</td>\n",
              "      <td>...</td>\n",
              "    </tr>\n",
              "    <tr>\n",
              "      <th>314</th>\n",
              "      <td>2021-04-11</td>\n",
              "      <td>13</td>\n",
              "    </tr>\n",
              "    <tr>\n",
              "      <th>315</th>\n",
              "      <td>2021-04-12</td>\n",
              "      <td>32</td>\n",
              "    </tr>\n",
              "    <tr>\n",
              "      <th>316</th>\n",
              "      <td>2021-04-13</td>\n",
              "      <td>37</td>\n",
              "    </tr>\n",
              "    <tr>\n",
              "      <th>317</th>\n",
              "      <td>2021-04-14</td>\n",
              "      <td>37</td>\n",
              "    </tr>\n",
              "    <tr>\n",
              "      <th>318</th>\n",
              "      <td>2021-04-15</td>\n",
              "      <td>71</td>\n",
              "    </tr>\n",
              "  </tbody>\n",
              "</table>\n",
              "<p>319 rows × 2 columns</p>\n",
              "</div>"
            ],
            "text/plain": [
              "           date  count\n",
              "0    2020-06-01     58\n",
              "1    2020-06-02     57\n",
              "2    2020-06-03     66\n",
              "3    2020-06-04     69\n",
              "4    2020-06-05     67\n",
              "..          ...    ...\n",
              "314  2021-04-11     13\n",
              "315  2021-04-12     32\n",
              "316  2021-04-13     37\n",
              "317  2021-04-14     37\n",
              "318  2021-04-15     71\n",
              "\n",
              "[319 rows x 2 columns]"
            ]
          },
          "metadata": {
            "tags": []
          },
          "execution_count": 101
        }
      ]
    },
    {
      "cell_type": "code",
      "metadata": {
        "id": "N7MnFo354j_o"
      },
      "source": [
        "data.columns=['ds','y']\n"
      ],
      "execution_count": null,
      "outputs": []
    },
    {
      "cell_type": "code",
      "metadata": {
        "id": "i_PzEJ484m62"
      },
      "source": [
        "model=Prophet(interval_width=0.95)\n"
      ],
      "execution_count": null,
      "outputs": []
    },
    {
      "cell_type": "code",
      "metadata": {
        "id": "1hkCkXlR4y72",
        "colab": {
          "base_uri": "https://localhost:8080/"
        },
        "outputId": "f58d8bb5-b4cc-4261-cd26-af86e8d805b2"
      },
      "source": [
        "model.fit(data)\n"
      ],
      "execution_count": null,
      "outputs": [
        {
          "output_type": "stream",
          "text": [
            "INFO:fbprophet:Disabling yearly seasonality. Run prophet with yearly_seasonality=True to override this.\n",
            "INFO:fbprophet:Disabling daily seasonality. Run prophet with daily_seasonality=True to override this.\n"
          ],
          "name": "stderr"
        },
        {
          "output_type": "execute_result",
          "data": {
            "text/plain": [
              "<fbprophet.forecaster.Prophet at 0x7f434c223f10>"
            ]
          },
          "metadata": {
            "tags": []
          },
          "execution_count": 104
        }
      ]
    },
    {
      "cell_type": "code",
      "metadata": {
        "id": "Z2i-4-LX45EK"
      },
      "source": [
        "future=model.make_future_dataframe(periods=100)\n"
      ],
      "execution_count": null,
      "outputs": []
    },
    {
      "cell_type": "code",
      "metadata": {
        "id": "XfwaYchP5A1c",
        "colab": {
          "base_uri": "https://localhost:8080/",
          "height": 424
        },
        "outputId": "da262431-45e1-40d9-f8ba-d976eaf5eedf"
      },
      "source": [
        "future"
      ],
      "execution_count": null,
      "outputs": [
        {
          "output_type": "execute_result",
          "data": {
            "text/html": [
              "<div>\n",
              "<style scoped>\n",
              "    .dataframe tbody tr th:only-of-type {\n",
              "        vertical-align: middle;\n",
              "    }\n",
              "\n",
              "    .dataframe tbody tr th {\n",
              "        vertical-align: top;\n",
              "    }\n",
              "\n",
              "    .dataframe thead th {\n",
              "        text-align: right;\n",
              "    }\n",
              "</style>\n",
              "<table border=\"1\" class=\"dataframe\">\n",
              "  <thead>\n",
              "    <tr style=\"text-align: right;\">\n",
              "      <th></th>\n",
              "      <th>ds</th>\n",
              "    </tr>\n",
              "  </thead>\n",
              "  <tbody>\n",
              "    <tr>\n",
              "      <th>0</th>\n",
              "      <td>2020-06-01</td>\n",
              "    </tr>\n",
              "    <tr>\n",
              "      <th>1</th>\n",
              "      <td>2020-06-02</td>\n",
              "    </tr>\n",
              "    <tr>\n",
              "      <th>2</th>\n",
              "      <td>2020-06-03</td>\n",
              "    </tr>\n",
              "    <tr>\n",
              "      <th>3</th>\n",
              "      <td>2020-06-04</td>\n",
              "    </tr>\n",
              "    <tr>\n",
              "      <th>4</th>\n",
              "      <td>2020-06-05</td>\n",
              "    </tr>\n",
              "    <tr>\n",
              "      <th>...</th>\n",
              "      <td>...</td>\n",
              "    </tr>\n",
              "    <tr>\n",
              "      <th>414</th>\n",
              "      <td>2021-07-20</td>\n",
              "    </tr>\n",
              "    <tr>\n",
              "      <th>415</th>\n",
              "      <td>2021-07-21</td>\n",
              "    </tr>\n",
              "    <tr>\n",
              "      <th>416</th>\n",
              "      <td>2021-07-22</td>\n",
              "    </tr>\n",
              "    <tr>\n",
              "      <th>417</th>\n",
              "      <td>2021-07-23</td>\n",
              "    </tr>\n",
              "    <tr>\n",
              "      <th>418</th>\n",
              "      <td>2021-07-24</td>\n",
              "    </tr>\n",
              "  </tbody>\n",
              "</table>\n",
              "<p>419 rows × 1 columns</p>\n",
              "</div>"
            ],
            "text/plain": [
              "            ds\n",
              "0   2020-06-01\n",
              "1   2020-06-02\n",
              "2   2020-06-03\n",
              "3   2020-06-04\n",
              "4   2020-06-05\n",
              "..         ...\n",
              "414 2021-07-20\n",
              "415 2021-07-21\n",
              "416 2021-07-22\n",
              "417 2021-07-23\n",
              "418 2021-07-24\n",
              "\n",
              "[419 rows x 1 columns]"
            ]
          },
          "metadata": {
            "tags": []
          },
          "execution_count": 106
        }
      ]
    },
    {
      "cell_type": "code",
      "metadata": {
        "id": "dV_Msl_-5VwN"
      },
      "source": [
        "pred=model.predict(future)\n"
      ],
      "execution_count": null,
      "outputs": []
    },
    {
      "cell_type": "code",
      "metadata": {
        "id": "lxcITUaq5ZCm",
        "colab": {
          "base_uri": "https://localhost:8080/",
          "height": 617
        },
        "outputId": "9568d125-de33-4770-96ba-528bfab630d9"
      },
      "source": [
        "pred\n"
      ],
      "execution_count": null,
      "outputs": [
        {
          "output_type": "execute_result",
          "data": {
            "text/html": [
              "<div>\n",
              "<style scoped>\n",
              "    .dataframe tbody tr th:only-of-type {\n",
              "        vertical-align: middle;\n",
              "    }\n",
              "\n",
              "    .dataframe tbody tr th {\n",
              "        vertical-align: top;\n",
              "    }\n",
              "\n",
              "    .dataframe thead th {\n",
              "        text-align: right;\n",
              "    }\n",
              "</style>\n",
              "<table border=\"1\" class=\"dataframe\">\n",
              "  <thead>\n",
              "    <tr style=\"text-align: right;\">\n",
              "      <th></th>\n",
              "      <th>ds</th>\n",
              "      <th>trend</th>\n",
              "      <th>yhat_lower</th>\n",
              "      <th>yhat_upper</th>\n",
              "      <th>trend_lower</th>\n",
              "      <th>trend_upper</th>\n",
              "      <th>additive_terms</th>\n",
              "      <th>additive_terms_lower</th>\n",
              "      <th>additive_terms_upper</th>\n",
              "      <th>weekly</th>\n",
              "      <th>weekly_lower</th>\n",
              "      <th>weekly_upper</th>\n",
              "      <th>multiplicative_terms</th>\n",
              "      <th>multiplicative_terms_lower</th>\n",
              "      <th>multiplicative_terms_upper</th>\n",
              "      <th>yhat</th>\n",
              "    </tr>\n",
              "  </thead>\n",
              "  <tbody>\n",
              "    <tr>\n",
              "      <th>0</th>\n",
              "      <td>2020-06-01</td>\n",
              "      <td>96.195050</td>\n",
              "      <td>12.917943</td>\n",
              "      <td>186.260994</td>\n",
              "      <td>96.195050</td>\n",
              "      <td>96.195050</td>\n",
              "      <td>4.614485</td>\n",
              "      <td>4.614485</td>\n",
              "      <td>4.614485</td>\n",
              "      <td>4.614485</td>\n",
              "      <td>4.614485</td>\n",
              "      <td>4.614485</td>\n",
              "      <td>0.0</td>\n",
              "      <td>0.0</td>\n",
              "      <td>0.0</td>\n",
              "      <td>100.809535</td>\n",
              "    </tr>\n",
              "    <tr>\n",
              "      <th>1</th>\n",
              "      <td>2020-06-02</td>\n",
              "      <td>96.338102</td>\n",
              "      <td>8.371707</td>\n",
              "      <td>182.350307</td>\n",
              "      <td>96.338102</td>\n",
              "      <td>96.338102</td>\n",
              "      <td>-2.433535</td>\n",
              "      <td>-2.433535</td>\n",
              "      <td>-2.433535</td>\n",
              "      <td>-2.433535</td>\n",
              "      <td>-2.433535</td>\n",
              "      <td>-2.433535</td>\n",
              "      <td>0.0</td>\n",
              "      <td>0.0</td>\n",
              "      <td>0.0</td>\n",
              "      <td>93.904566</td>\n",
              "    </tr>\n",
              "    <tr>\n",
              "      <th>2</th>\n",
              "      <td>2020-06-03</td>\n",
              "      <td>96.481153</td>\n",
              "      <td>9.778508</td>\n",
              "      <td>179.878495</td>\n",
              "      <td>96.481153</td>\n",
              "      <td>96.481153</td>\n",
              "      <td>-3.760416</td>\n",
              "      <td>-3.760416</td>\n",
              "      <td>-3.760416</td>\n",
              "      <td>-3.760416</td>\n",
              "      <td>-3.760416</td>\n",
              "      <td>-3.760416</td>\n",
              "      <td>0.0</td>\n",
              "      <td>0.0</td>\n",
              "      <td>0.0</td>\n",
              "      <td>92.720738</td>\n",
              "    </tr>\n",
              "    <tr>\n",
              "      <th>3</th>\n",
              "      <td>2020-06-04</td>\n",
              "      <td>96.624204</td>\n",
              "      <td>17.914600</td>\n",
              "      <td>191.208429</td>\n",
              "      <td>96.624204</td>\n",
              "      <td>96.624204</td>\n",
              "      <td>5.220774</td>\n",
              "      <td>5.220774</td>\n",
              "      <td>5.220774</td>\n",
              "      <td>5.220774</td>\n",
              "      <td>5.220774</td>\n",
              "      <td>5.220774</td>\n",
              "      <td>0.0</td>\n",
              "      <td>0.0</td>\n",
              "      <td>0.0</td>\n",
              "      <td>101.844978</td>\n",
              "    </tr>\n",
              "    <tr>\n",
              "      <th>4</th>\n",
              "      <td>2020-06-05</td>\n",
              "      <td>96.767256</td>\n",
              "      <td>16.532262</td>\n",
              "      <td>202.079068</td>\n",
              "      <td>96.767256</td>\n",
              "      <td>96.767256</td>\n",
              "      <td>13.700743</td>\n",
              "      <td>13.700743</td>\n",
              "      <td>13.700743</td>\n",
              "      <td>13.700743</td>\n",
              "      <td>13.700743</td>\n",
              "      <td>13.700743</td>\n",
              "      <td>0.0</td>\n",
              "      <td>0.0</td>\n",
              "      <td>0.0</td>\n",
              "      <td>110.467998</td>\n",
              "    </tr>\n",
              "    <tr>\n",
              "      <th>...</th>\n",
              "      <td>...</td>\n",
              "      <td>...</td>\n",
              "      <td>...</td>\n",
              "      <td>...</td>\n",
              "      <td>...</td>\n",
              "      <td>...</td>\n",
              "      <td>...</td>\n",
              "      <td>...</td>\n",
              "      <td>...</td>\n",
              "      <td>...</td>\n",
              "      <td>...</td>\n",
              "      <td>...</td>\n",
              "      <td>...</td>\n",
              "      <td>...</td>\n",
              "      <td>...</td>\n",
              "      <td>...</td>\n",
              "    </tr>\n",
              "    <tr>\n",
              "      <th>414</th>\n",
              "      <td>2021-07-20</td>\n",
              "      <td>62.456621</td>\n",
              "      <td>-30.164248</td>\n",
              "      <td>153.114018</td>\n",
              "      <td>44.927429</td>\n",
              "      <td>79.252883</td>\n",
              "      <td>-2.433535</td>\n",
              "      <td>-2.433535</td>\n",
              "      <td>-2.433535</td>\n",
              "      <td>-2.433535</td>\n",
              "      <td>-2.433535</td>\n",
              "      <td>-2.433535</td>\n",
              "      <td>0.0</td>\n",
              "      <td>0.0</td>\n",
              "      <td>0.0</td>\n",
              "      <td>60.023085</td>\n",
              "    </tr>\n",
              "    <tr>\n",
              "      <th>415</th>\n",
              "      <td>2021-07-21</td>\n",
              "      <td>62.466500</td>\n",
              "      <td>-36.927386</td>\n",
              "      <td>147.008585</td>\n",
              "      <td>44.606365</td>\n",
              "      <td>79.691849</td>\n",
              "      <td>-3.760416</td>\n",
              "      <td>-3.760416</td>\n",
              "      <td>-3.760416</td>\n",
              "      <td>-3.760416</td>\n",
              "      <td>-3.760416</td>\n",
              "      <td>-3.760416</td>\n",
              "      <td>0.0</td>\n",
              "      <td>0.0</td>\n",
              "      <td>0.0</td>\n",
              "      <td>58.706084</td>\n",
              "    </tr>\n",
              "    <tr>\n",
              "      <th>416</th>\n",
              "      <td>2021-07-22</td>\n",
              "      <td>62.476379</td>\n",
              "      <td>-18.334286</td>\n",
              "      <td>155.496061</td>\n",
              "      <td>44.207035</td>\n",
              "      <td>80.130816</td>\n",
              "      <td>5.220774</td>\n",
              "      <td>5.220774</td>\n",
              "      <td>5.220774</td>\n",
              "      <td>5.220774</td>\n",
              "      <td>5.220774</td>\n",
              "      <td>5.220774</td>\n",
              "      <td>0.0</td>\n",
              "      <td>0.0</td>\n",
              "      <td>0.0</td>\n",
              "      <td>67.697152</td>\n",
              "    </tr>\n",
              "    <tr>\n",
              "      <th>417</th>\n",
              "      <td>2021-07-23</td>\n",
              "      <td>62.486257</td>\n",
              "      <td>-13.900418</td>\n",
              "      <td>160.431978</td>\n",
              "      <td>43.945670</td>\n",
              "      <td>80.569782</td>\n",
              "      <td>13.700743</td>\n",
              "      <td>13.700743</td>\n",
              "      <td>13.700743</td>\n",
              "      <td>13.700743</td>\n",
              "      <td>13.700743</td>\n",
              "      <td>13.700743</td>\n",
              "      <td>0.0</td>\n",
              "      <td>0.0</td>\n",
              "      <td>0.0</td>\n",
              "      <td>76.187000</td>\n",
              "    </tr>\n",
              "    <tr>\n",
              "      <th>418</th>\n",
              "      <td>2021-07-24</td>\n",
              "      <td>62.496136</td>\n",
              "      <td>-24.894934</td>\n",
              "      <td>150.188467</td>\n",
              "      <td>43.689381</td>\n",
              "      <td>81.008749</td>\n",
              "      <td>-1.614273</td>\n",
              "      <td>-1.614273</td>\n",
              "      <td>-1.614273</td>\n",
              "      <td>-1.614273</td>\n",
              "      <td>-1.614273</td>\n",
              "      <td>-1.614273</td>\n",
              "      <td>0.0</td>\n",
              "      <td>0.0</td>\n",
              "      <td>0.0</td>\n",
              "      <td>60.881863</td>\n",
              "    </tr>\n",
              "  </tbody>\n",
              "</table>\n",
              "<p>419 rows × 16 columns</p>\n",
              "</div>"
            ],
            "text/plain": [
              "            ds      trend  ...  multiplicative_terms_upper        yhat\n",
              "0   2020-06-01  96.195050  ...                         0.0  100.809535\n",
              "1   2020-06-02  96.338102  ...                         0.0   93.904566\n",
              "2   2020-06-03  96.481153  ...                         0.0   92.720738\n",
              "3   2020-06-04  96.624204  ...                         0.0  101.844978\n",
              "4   2020-06-05  96.767256  ...                         0.0  110.467998\n",
              "..         ...        ...  ...                         ...         ...\n",
              "414 2021-07-20  62.456621  ...                         0.0   60.023085\n",
              "415 2021-07-21  62.466500  ...                         0.0   58.706084\n",
              "416 2021-07-22  62.476379  ...                         0.0   67.697152\n",
              "417 2021-07-23  62.486257  ...                         0.0   76.187000\n",
              "418 2021-07-24  62.496136  ...                         0.0   60.881863\n",
              "\n",
              "[419 rows x 16 columns]"
            ]
          },
          "metadata": {
            "tags": []
          },
          "execution_count": 108
        }
      ]
    },
    {
      "cell_type": "code",
      "metadata": {
        "id": "sdu_xSr85cEG",
        "colab": {
          "base_uri": "https://localhost:8080/",
          "height": 206
        },
        "outputId": "c60d98e8-c30b-4b27-9f6d-34947ecfe00b"
      },
      "source": [
        "pred[['ds','yhat','yhat_lower','yhat_upper']].tail()\n"
      ],
      "execution_count": null,
      "outputs": [
        {
          "output_type": "execute_result",
          "data": {
            "text/html": [
              "<div>\n",
              "<style scoped>\n",
              "    .dataframe tbody tr th:only-of-type {\n",
              "        vertical-align: middle;\n",
              "    }\n",
              "\n",
              "    .dataframe tbody tr th {\n",
              "        vertical-align: top;\n",
              "    }\n",
              "\n",
              "    .dataframe thead th {\n",
              "        text-align: right;\n",
              "    }\n",
              "</style>\n",
              "<table border=\"1\" class=\"dataframe\">\n",
              "  <thead>\n",
              "    <tr style=\"text-align: right;\">\n",
              "      <th></th>\n",
              "      <th>ds</th>\n",
              "      <th>yhat</th>\n",
              "      <th>yhat_lower</th>\n",
              "      <th>yhat_upper</th>\n",
              "    </tr>\n",
              "  </thead>\n",
              "  <tbody>\n",
              "    <tr>\n",
              "      <th>414</th>\n",
              "      <td>2021-07-20</td>\n",
              "      <td>60.023085</td>\n",
              "      <td>-30.164248</td>\n",
              "      <td>153.114018</td>\n",
              "    </tr>\n",
              "    <tr>\n",
              "      <th>415</th>\n",
              "      <td>2021-07-21</td>\n",
              "      <td>58.706084</td>\n",
              "      <td>-36.927386</td>\n",
              "      <td>147.008585</td>\n",
              "    </tr>\n",
              "    <tr>\n",
              "      <th>416</th>\n",
              "      <td>2021-07-22</td>\n",
              "      <td>67.697152</td>\n",
              "      <td>-18.334286</td>\n",
              "      <td>155.496061</td>\n",
              "    </tr>\n",
              "    <tr>\n",
              "      <th>417</th>\n",
              "      <td>2021-07-23</td>\n",
              "      <td>76.187000</td>\n",
              "      <td>-13.900418</td>\n",
              "      <td>160.431978</td>\n",
              "    </tr>\n",
              "    <tr>\n",
              "      <th>418</th>\n",
              "      <td>2021-07-24</td>\n",
              "      <td>60.881863</td>\n",
              "      <td>-24.894934</td>\n",
              "      <td>150.188467</td>\n",
              "    </tr>\n",
              "  </tbody>\n",
              "</table>\n",
              "</div>"
            ],
            "text/plain": [
              "            ds       yhat  yhat_lower  yhat_upper\n",
              "414 2021-07-20  60.023085  -30.164248  153.114018\n",
              "415 2021-07-21  58.706084  -36.927386  147.008585\n",
              "416 2021-07-22  67.697152  -18.334286  155.496061\n",
              "417 2021-07-23  76.187000  -13.900418  160.431978\n",
              "418 2021-07-24  60.881863  -24.894934  150.188467"
            ]
          },
          "metadata": {
            "tags": []
          },
          "execution_count": 116
        }
      ]
    },
    {
      "cell_type": "code",
      "metadata": {
        "colab": {
          "base_uri": "https://localhost:8080/",
          "height": 206
        },
        "id": "yeeHq8RQhzpe",
        "outputId": "14e5828e-9bf0-4236-cb40-3e5261dbad13"
      },
      "source": [
        "pred[['ds','yhat','yhat_lower','yhat_upper']].head()\n"
      ],
      "execution_count": null,
      "outputs": [
        {
          "output_type": "execute_result",
          "data": {
            "text/html": [
              "<div>\n",
              "<style scoped>\n",
              "    .dataframe tbody tr th:only-of-type {\n",
              "        vertical-align: middle;\n",
              "    }\n",
              "\n",
              "    .dataframe tbody tr th {\n",
              "        vertical-align: top;\n",
              "    }\n",
              "\n",
              "    .dataframe thead th {\n",
              "        text-align: right;\n",
              "    }\n",
              "</style>\n",
              "<table border=\"1\" class=\"dataframe\">\n",
              "  <thead>\n",
              "    <tr style=\"text-align: right;\">\n",
              "      <th></th>\n",
              "      <th>ds</th>\n",
              "      <th>yhat</th>\n",
              "      <th>yhat_lower</th>\n",
              "      <th>yhat_upper</th>\n",
              "    </tr>\n",
              "  </thead>\n",
              "  <tbody>\n",
              "    <tr>\n",
              "      <th>0</th>\n",
              "      <td>2020-06-01</td>\n",
              "      <td>100.809535</td>\n",
              "      <td>12.917943</td>\n",
              "      <td>186.260994</td>\n",
              "    </tr>\n",
              "    <tr>\n",
              "      <th>1</th>\n",
              "      <td>2020-06-02</td>\n",
              "      <td>93.904566</td>\n",
              "      <td>8.371707</td>\n",
              "      <td>182.350307</td>\n",
              "    </tr>\n",
              "    <tr>\n",
              "      <th>2</th>\n",
              "      <td>2020-06-03</td>\n",
              "      <td>92.720738</td>\n",
              "      <td>9.778508</td>\n",
              "      <td>179.878495</td>\n",
              "    </tr>\n",
              "    <tr>\n",
              "      <th>3</th>\n",
              "      <td>2020-06-04</td>\n",
              "      <td>101.844978</td>\n",
              "      <td>17.914600</td>\n",
              "      <td>191.208429</td>\n",
              "    </tr>\n",
              "    <tr>\n",
              "      <th>4</th>\n",
              "      <td>2020-06-05</td>\n",
              "      <td>110.467998</td>\n",
              "      <td>16.532262</td>\n",
              "      <td>202.079068</td>\n",
              "    </tr>\n",
              "  </tbody>\n",
              "</table>\n",
              "</div>"
            ],
            "text/plain": [
              "          ds        yhat  yhat_lower  yhat_upper\n",
              "0 2020-06-01  100.809535   12.917943  186.260994\n",
              "1 2020-06-02   93.904566    8.371707  182.350307\n",
              "2 2020-06-03   92.720738    9.778508  179.878495\n",
              "3 2020-06-04  101.844978   17.914600  191.208429\n",
              "4 2020-06-05  110.467998   16.532262  202.079068"
            ]
          },
          "metadata": {
            "tags": []
          },
          "execution_count": 110
        }
      ]
    },
    {
      "cell_type": "code",
      "metadata": {
        "id": "b09ndhoD5up5"
      },
      "source": [
        "data.index=data['ds']"
      ],
      "execution_count": null,
      "outputs": []
    },
    {
      "cell_type": "code",
      "metadata": {
        "id": "JwUEYm1a5ooZ",
        "colab": {
          "base_uri": "https://localhost:8080/",
          "height": 624
        },
        "outputId": "d37852e1-884c-43c3-ce6e-3cc4af54135f"
      },
      "source": [
        "data['y'].plot(figsize=(20,10))\n"
      ],
      "execution_count": null,
      "outputs": [
        {
          "output_type": "execute_result",
          "data": {
            "text/plain": [
              "<matplotlib.axes._subplots.AxesSubplot at 0x7f434c3122d0>"
            ]
          },
          "metadata": {
            "tags": []
          },
          "execution_count": 112
        },
        {
          "output_type": "display_data",
          "data": {
            "image/png": "[encoded data removed]",
            "text/plain": [
              "<Figure size 1440x720 with 1 Axes>"
            ]
          },
          "metadata": {
            "tags": [],
            "needs_background": "light"
          }
        }
      ]
    },
    {
      "cell_type": "code",
      "metadata": {
        "id": "KNbaXug95_S2",
        "colab": {
          "base_uri": "https://localhost:8080/",
          "height": 441
        },
        "outputId": "f84c2bab-e04c-455b-8950-cb4a1863b54c"
      },
      "source": [
        "data_forecast=model.plot(pred)\n"
      ],
      "execution_count": null,
      "outputs": [
        {
          "output_type": "display_data",
          "data": {
            "image/png": "[encoded data removed]",
            "text/plain": [
              "<Figure size 720x432 with 1 Axes>"
            ]
          },
          "metadata": {
            "tags": []
          }
        }
      ]
    },
    {
      "cell_type": "code",
      "metadata": {
        "id": "xmg_fl0s6DnT",
        "colab": {
          "base_uri": "https://localhost:8080/",
          "height": 441
        },
        "outputId": "539be843-65c7-4459-f995-0614dd5d5421"
      },
      "source": [
        "data_forecast_plot=model.plot_components(pred)\n"
      ],
      "execution_count": null,
      "outputs": [
        {
          "output_type": "display_data",
          "data": {
            "image/png": "[encoded data removed]",
            "text/plain": [
              "<Figure size 648x432 with 2 Axes>"
            ]
          },
          "metadata": {
            "tags": []
          }
        }
      ]
    },
    {
      "cell_type": "code",
      "metadata": {
        "id": "pq5gjmrVipF2"
      },
      "source": [
        "pred.to_csv('Prophet_Jun_Apr.csv')"
      ],
      "execution_count": null,
      "outputs": []
    },
    {
      "cell_type": "code",
      "metadata": {
        "id": "8CmM0nq3lfh3",
        "colab": {
          "base_uri": "https://localhost:8080/",
          "height": 1000
        },
        "outputId": "0d2bf033-6e49-4d6b-a5a7-ded06389fa16"
      },
      "source": [
        "pred[['ds','yhat']].tail(60)\n"
      ],
      "execution_count": null,
      "outputs": [
        {
          "output_type": "execute_result",
          "data": {
            "text/html": [
              "<div>\n",
              "<style scoped>\n",
              "    .dataframe tbody tr th:only-of-type {\n",
              "        vertical-align: middle;\n",
              "    }\n",
              "\n",
              "    .dataframe tbody tr th {\n",
              "        vertical-align: top;\n",
              "    }\n",
              "\n",
              "    .dataframe thead th {\n",
              "        text-align: right;\n",
              "    }\n",
              "</style>\n",
              "<table border=\"1\" class=\"dataframe\">\n",
              "  <thead>\n",
              "    <tr style=\"text-align: right;\">\n",
              "      <th></th>\n",
              "      <th>ds</th>\n",
              "      <th>yhat</th>\n",
              "    </tr>\n",
              "  </thead>\n",
              "  <tbody>\n",
              "    <tr>\n",
              "      <th>359</th>\n",
              "      <td>2021-05-26</td>\n",
              "      <td>58.152863</td>\n",
              "    </tr>\n",
              "    <tr>\n",
              "      <th>360</th>\n",
              "      <td>2021-05-27</td>\n",
              "      <td>67.143931</td>\n",
              "    </tr>\n",
              "    <tr>\n",
              "      <th>361</th>\n",
              "      <td>2021-05-28</td>\n",
              "      <td>75.633779</td>\n",
              "    </tr>\n",
              "    <tr>\n",
              "      <th>362</th>\n",
              "      <td>2021-05-29</td>\n",
              "      <td>60.328642</td>\n",
              "    </tr>\n",
              "    <tr>\n",
              "      <th>363</th>\n",
              "      <td>2021-05-30</td>\n",
              "      <td>46.225018</td>\n",
              "    </tr>\n",
              "    <tr>\n",
              "      <th>364</th>\n",
              "      <td>2021-05-31</td>\n",
              "      <td>66.577158</td>\n",
              "    </tr>\n",
              "    <tr>\n",
              "      <th>365</th>\n",
              "      <td>2021-06-01</td>\n",
              "      <td>59.539017</td>\n",
              "    </tr>\n",
              "    <tr>\n",
              "      <th>366</th>\n",
              "      <td>2021-06-02</td>\n",
              "      <td>58.222016</td>\n",
              "    </tr>\n",
              "    <tr>\n",
              "      <th>367</th>\n",
              "      <td>2021-06-03</td>\n",
              "      <td>67.213084</td>\n",
              "    </tr>\n",
              "    <tr>\n",
              "      <th>368</th>\n",
              "      <td>2021-06-04</td>\n",
              "      <td>75.702932</td>\n",
              "    </tr>\n",
              "    <tr>\n",
              "      <th>369</th>\n",
              "      <td>2021-06-05</td>\n",
              "      <td>60.397795</td>\n",
              "    </tr>\n",
              "    <tr>\n",
              "      <th>370</th>\n",
              "      <td>2021-06-06</td>\n",
              "      <td>46.294170</td>\n",
              "    </tr>\n",
              "    <tr>\n",
              "      <th>371</th>\n",
              "      <td>2021-06-07</td>\n",
              "      <td>66.646311</td>\n",
              "    </tr>\n",
              "    <tr>\n",
              "      <th>372</th>\n",
              "      <td>2021-06-08</td>\n",
              "      <td>59.608170</td>\n",
              "    </tr>\n",
              "    <tr>\n",
              "      <th>373</th>\n",
              "      <td>2021-06-09</td>\n",
              "      <td>58.291168</td>\n",
              "    </tr>\n",
              "    <tr>\n",
              "      <th>374</th>\n",
              "      <td>2021-06-10</td>\n",
              "      <td>67.282237</td>\n",
              "    </tr>\n",
              "    <tr>\n",
              "      <th>375</th>\n",
              "      <td>2021-06-11</td>\n",
              "      <td>75.772085</td>\n",
              "    </tr>\n",
              "    <tr>\n",
              "      <th>376</th>\n",
              "      <td>2021-06-12</td>\n",
              "      <td>60.466948</td>\n",
              "    </tr>\n",
              "    <tr>\n",
              "      <th>377</th>\n",
              "      <td>2021-06-13</td>\n",
              "      <td>46.363323</td>\n",
              "    </tr>\n",
              "    <tr>\n",
              "      <th>378</th>\n",
              "      <td>2021-06-14</td>\n",
              "      <td>66.715463</td>\n",
              "    </tr>\n",
              "    <tr>\n",
              "      <th>379</th>\n",
              "      <td>2021-06-15</td>\n",
              "      <td>59.677322</td>\n",
              "    </tr>\n",
              "    <tr>\n",
              "      <th>380</th>\n",
              "      <td>2021-06-16</td>\n",
              "      <td>58.360321</td>\n",
              "    </tr>\n",
              "    <tr>\n",
              "      <th>381</th>\n",
              "      <td>2021-06-17</td>\n",
              "      <td>67.351389</td>\n",
              "    </tr>\n",
              "    <tr>\n",
              "      <th>382</th>\n",
              "      <td>2021-06-18</td>\n",
              "      <td>75.841237</td>\n",
              "    </tr>\n",
              "    <tr>\n",
              "      <th>383</th>\n",
              "      <td>2021-06-19</td>\n",
              "      <td>60.536100</td>\n",
              "    </tr>\n",
              "    <tr>\n",
              "      <th>384</th>\n",
              "      <td>2021-06-20</td>\n",
              "      <td>46.432475</td>\n",
              "    </tr>\n",
              "    <tr>\n",
              "      <th>385</th>\n",
              "      <td>2021-06-21</td>\n",
              "      <td>66.784616</td>\n",
              "    </tr>\n",
              "    <tr>\n",
              "      <th>386</th>\n",
              "      <td>2021-06-22</td>\n",
              "      <td>59.746475</td>\n",
              "    </tr>\n",
              "    <tr>\n",
              "      <th>387</th>\n",
              "      <td>2021-06-23</td>\n",
              "      <td>58.429474</td>\n",
              "    </tr>\n",
              "    <tr>\n",
              "      <th>388</th>\n",
              "      <td>2021-06-24</td>\n",
              "      <td>67.420542</td>\n",
              "    </tr>\n",
              "    <tr>\n",
              "      <th>389</th>\n",
              "      <td>2021-06-25</td>\n",
              "      <td>75.910390</td>\n",
              "    </tr>\n",
              "    <tr>\n",
              "      <th>390</th>\n",
              "      <td>2021-06-26</td>\n",
              "      <td>60.605253</td>\n",
              "    </tr>\n",
              "    <tr>\n",
              "      <th>391</th>\n",
              "      <td>2021-06-27</td>\n",
              "      <td>46.501628</td>\n",
              "    </tr>\n",
              "    <tr>\n",
              "      <th>392</th>\n",
              "      <td>2021-06-28</td>\n",
              "      <td>66.853769</td>\n",
              "    </tr>\n",
              "    <tr>\n",
              "      <th>393</th>\n",
              "      <td>2021-06-29</td>\n",
              "      <td>59.815627</td>\n",
              "    </tr>\n",
              "    <tr>\n",
              "      <th>394</th>\n",
              "      <td>2021-06-30</td>\n",
              "      <td>58.498626</td>\n",
              "    </tr>\n",
              "    <tr>\n",
              "      <th>395</th>\n",
              "      <td>2021-07-01</td>\n",
              "      <td>67.489694</td>\n",
              "    </tr>\n",
              "    <tr>\n",
              "      <th>396</th>\n",
              "      <td>2021-07-02</td>\n",
              "      <td>75.979542</td>\n",
              "    </tr>\n",
              "    <tr>\n",
              "      <th>397</th>\n",
              "      <td>2021-07-03</td>\n",
              "      <td>60.674405</td>\n",
              "    </tr>\n",
              "    <tr>\n",
              "      <th>398</th>\n",
              "      <td>2021-07-04</td>\n",
              "      <td>46.570781</td>\n",
              "    </tr>\n",
              "    <tr>\n",
              "      <th>399</th>\n",
              "      <td>2021-07-05</td>\n",
              "      <td>66.922921</td>\n",
              "    </tr>\n",
              "    <tr>\n",
              "      <th>400</th>\n",
              "      <td>2021-07-06</td>\n",
              "      <td>59.884780</td>\n",
              "    </tr>\n",
              "    <tr>\n",
              "      <th>401</th>\n",
              "      <td>2021-07-07</td>\n",
              "      <td>58.567779</td>\n",
              "    </tr>\n",
              "    <tr>\n",
              "      <th>402</th>\n",
              "      <td>2021-07-08</td>\n",
              "      <td>67.558847</td>\n",
              "    </tr>\n",
              "    <tr>\n",
              "      <th>403</th>\n",
              "      <td>2021-07-09</td>\n",
              "      <td>76.048695</td>\n",
              "    </tr>\n",
              "    <tr>\n",
              "      <th>404</th>\n",
              "      <td>2021-07-10</td>\n",
              "      <td>60.743558</td>\n",
              "    </tr>\n",
              "    <tr>\n",
              "      <th>405</th>\n",
              "      <td>2021-07-11</td>\n",
              "      <td>46.639933</td>\n",
              "    </tr>\n",
              "    <tr>\n",
              "      <th>406</th>\n",
              "      <td>2021-07-12</td>\n",
              "      <td>66.992074</td>\n",
              "    </tr>\n",
              "    <tr>\n",
              "      <th>407</th>\n",
              "      <td>2021-07-13</td>\n",
              "      <td>59.953933</td>\n",
              "    </tr>\n",
              "    <tr>\n",
              "      <th>408</th>\n",
              "      <td>2021-07-14</td>\n",
              "      <td>58.636931</td>\n",
              "    </tr>\n",
              "    <tr>\n",
              "      <th>409</th>\n",
              "      <td>2021-07-15</td>\n",
              "      <td>67.628000</td>\n",
              "    </tr>\n",
              "    <tr>\n",
              "      <th>410</th>\n",
              "      <td>2021-07-16</td>\n",
              "      <td>76.117848</td>\n",
              "    </tr>\n",
              "    <tr>\n",
              "      <th>411</th>\n",
              "      <td>2021-07-17</td>\n",
              "      <td>60.812711</td>\n",
              "    </tr>\n",
              "    <tr>\n",
              "      <th>412</th>\n",
              "      <td>2021-07-18</td>\n",
              "      <td>46.709086</td>\n",
              "    </tr>\n",
              "    <tr>\n",
              "      <th>413</th>\n",
              "      <td>2021-07-19</td>\n",
              "      <td>67.061226</td>\n",
              "    </tr>\n",
              "    <tr>\n",
              "      <th>414</th>\n",
              "      <td>2021-07-20</td>\n",
              "      <td>60.023085</td>\n",
              "    </tr>\n",
              "    <tr>\n",
              "      <th>415</th>\n",
              "      <td>2021-07-21</td>\n",
              "      <td>58.706084</td>\n",
              "    </tr>\n",
              "    <tr>\n",
              "      <th>416</th>\n",
              "      <td>2021-07-22</td>\n",
              "      <td>67.697152</td>\n",
              "    </tr>\n",
              "    <tr>\n",
              "      <th>417</th>\n",
              "      <td>2021-07-23</td>\n",
              "      <td>76.187000</td>\n",
              "    </tr>\n",
              "    <tr>\n",
              "      <th>418</th>\n",
              "      <td>2021-07-24</td>\n",
              "      <td>60.881863</td>\n",
              "    </tr>\n",
              "  </tbody>\n",
              "</table>\n",
              "</div>"
            ],
            "text/plain": [
              "            ds       yhat\n",
              "359 2021-05-26  58.152863\n",
              "360 2021-05-27  67.143931\n",
              "361 2021-05-28  75.633779\n",
              "362 2021-05-29  60.328642\n",
              "363 2021-05-30  46.225018\n",
              "364 2021-05-31  66.577158\n",
              "365 2021-06-01  59.539017\n",
              "366 2021-06-02  58.222016\n",
              "367 2021-06-03  67.213084\n",
              "368 2021-06-04  75.702932\n",
              "369 2021-06-05  60.397795\n",
              "370 2021-06-06  46.294170\n",
              "371 2021-06-07  66.646311\n",
              "372 2021-06-08  59.608170\n",
              "373 2021-06-09  58.291168\n",
              "374 2021-06-10  67.282237\n",
              "375 2021-06-11  75.772085\n",
              "376 2021-06-12  60.466948\n",
              "377 2021-06-13  46.363323\n",
              "378 2021-06-14  66.715463\n",
              "379 2021-06-15  59.677322\n",
              "380 2021-06-16  58.360321\n",
              "381 2021-06-17  67.351389\n",
              "382 2021-06-18  75.841237\n",
              "383 2021-06-19  60.536100\n",
              "384 2021-06-20  46.432475\n",
              "385 2021-06-21  66.784616\n",
              "386 2021-06-22  59.746475\n",
              "387 2021-06-23  58.429474\n",
              "388 2021-06-24  67.420542\n",
              "389 2021-06-25  75.910390\n",
              "390 2021-06-26  60.605253\n",
              "391 2021-06-27  46.501628\n",
              "392 2021-06-28  66.853769\n",
              "393 2021-06-29  59.815627\n",
              "394 2021-06-30  58.498626\n",
              "395 2021-07-01  67.489694\n",
              "396 2021-07-02  75.979542\n",
              "397 2021-07-03  60.674405\n",
              "398 2021-07-04  46.570781\n",
              "399 2021-07-05  66.922921\n",
              "400 2021-07-06  59.884780\n",
              "401 2021-07-07  58.567779\n",
              "402 2021-07-08  67.558847\n",
              "403 2021-07-09  76.048695\n",
              "404 2021-07-10  60.743558\n",
              "405 2021-07-11  46.639933\n",
              "406 2021-07-12  66.992074\n",
              "407 2021-07-13  59.953933\n",
              "408 2021-07-14  58.636931\n",
              "409 2021-07-15  67.628000\n",
              "410 2021-07-16  76.117848\n",
              "411 2021-07-17  60.812711\n",
              "412 2021-07-18  46.709086\n",
              "413 2021-07-19  67.061226\n",
              "414 2021-07-20  60.023085\n",
              "415 2021-07-21  58.706084\n",
              "416 2021-07-22  67.697152\n",
              "417 2021-07-23  76.187000\n",
              "418 2021-07-24  60.881863"
            ]
          },
          "metadata": {
            "tags": []
          },
          "execution_count": 117
        }
      ]
    }
  ]
}